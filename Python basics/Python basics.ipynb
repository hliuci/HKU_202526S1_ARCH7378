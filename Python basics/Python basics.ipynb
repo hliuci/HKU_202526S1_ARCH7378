{
 "cells": [
  {
   "cell_type": "markdown",
   "id": "00ed76fb",
   "metadata": {},
   "source": [
    "# Table of Contents\n",
    "1. Basic Data Types\n",
    "2. Variables and Assignment\n",
    "3. Strings and String Operations\n",
    "4. Lists and List Operations\n",
    "5. Dictionaries and Dictionary Operations\n",
    "6. Conditional Statements\n",
    "7. Loops\n",
    "8. Functions\n",
    "9. Classes and Objects"
   ]
  },
  {
   "cell_type": "markdown",
   "id": "42f86d93",
   "metadata": {},
   "source": [
    "# 1. Basic Data Types"
   ]
  },
  {
   "cell_type": "markdown",
   "id": "a0e717d7",
   "metadata": {},
   "source": [
    "Basic Python built-in data types."
   ]
  },
  {
   "cell_type": "code",
   "execution_count": 2,
   "id": "364f7b6c",
   "metadata": {},
   "outputs": [
    {
     "name": "stdout",
     "output_type": "stream",
     "text": [
      "Age: 25\n",
      "Type: <class 'int'>\n"
     ]
    }
   ],
   "source": [
    "# Integer - whole numbers\n",
    "age = 25\n",
    "print(\"Age:\", age)\n",
    "print(\"Type:\", type(age))"
   ]
  },
  {
   "cell_type": "code",
   "execution_count": 3,
   "id": "623e059a",
   "metadata": {},
   "outputs": [
    {
     "name": "stdout",
     "output_type": "stream",
     "text": [
      "Height: 5.9\n",
      "Type: <class 'float'>\n"
     ]
    }
   ],
   "source": [
    "# Float - decimal numbers\n",
    "height = 5.9\n",
    "print(\"Height:\", height)\n",
    "print(\"Type:\", type(height))"
   ]
  },
  {
   "cell_type": "code",
   "execution_count": 4,
   "id": "c595016d",
   "metadata": {},
   "outputs": [
    {
     "name": "stdout",
     "output_type": "stream",
     "text": [
      "Name: Alice\n",
      "Type: <class 'str'>\n"
     ]
    }
   ],
   "source": [
    "# String - text data\n",
    "name = \"Alice\"\n",
    "print(\"Name:\", name)\n",
    "print(\"Type:\", type(name))"
   ]
  },
  {
   "cell_type": "code",
   "execution_count": 5,
   "id": "59995bd8",
   "metadata": {},
   "outputs": [
    {
     "name": "stdout",
     "output_type": "stream",
     "text": [
      "Is student: True\n",
      "Type: <class 'bool'>\n"
     ]
    }
   ],
   "source": [
    "# Boolean - True/False values\n",
    "is_student = True\n",
    "print(\"Is student:\", is_student)    \n",
    "print(\"Type:\", type(is_student))"
   ]
  },
  {
   "cell_type": "code",
   "execution_count": 6,
   "id": "0921cd77",
   "metadata": {},
   "outputs": [
    {
     "name": "stdout",
     "output_type": "stream",
     "text": [
      "Grade: None\n",
      "Type: <class 'NoneType'>\n"
     ]
    }
   ],
   "source": [
    "# None - represents absence of value\n",
    "grade = None\n",
    "print(\"Grade:\", grade)\n",
    "print(\"Type:\", type(grade))"
   ]
  },
  {
   "cell_type": "markdown",
   "id": "a987c588",
   "metadata": {},
   "source": [
    "# 2. Variables and Assignment"
   ]
  },
  {
   "cell_type": "markdown",
   "id": "76317aca",
   "metadata": {},
   "source": [
    "Variables are used to store data values. Python uses dynamic typing, meaning you don't need to declare the variable type explicitly.\n",
    "\n",
    "Basic variable Naming Rules:\n",
    "- Must start with a letter or underscore\n",
    "- Can contain letters, numbers, and underscores\n"
   ]
  },
  {
   "cell_type": "code",
   "execution_count": 7,
   "id": "0761fe6c",
   "metadata": {},
   "outputs": [
    {
     "name": "stdout",
     "output_type": "stream",
     "text": [
      "x = 10, y = 20, z = x + y = 30\n"
     ]
    }
   ],
   "source": [
    "# Variable assignment\n",
    "x = 10\n",
    "y = 20\n",
    "z = x + y\n",
    "print(f\"x = {x}, y = {y}, z = x + y = {z}\")"
   ]
  },
  {
   "cell_type": "code",
   "execution_count": 8,
   "id": "ec156ce2",
   "metadata": {},
   "outputs": [
    {
     "name": "stdout",
     "output_type": "stream",
     "text": [
      "a = 1, b = 2, c = 3\n"
     ]
    }
   ],
   "source": [
    "# Multiple assignment\n",
    "a, b, c = 1, 2, 3\n",
    "print(f\"a = {a}, b = {b}, c = {c}\")"
   ]
  },
  {
   "cell_type": "code",
   "execution_count": 9,
   "id": "0b9be172",
   "metadata": {},
   "outputs": [
    {
     "name": "stdout",
     "output_type": "stream",
     "text": [
      "Initial counter: 0\n",
      "After increment: 1\n"
     ]
    }
   ],
   "source": [
    "# Variable reassignment\n",
    "counter = 0\n",
    "print(f\"Initial counter: {counter}\")\n",
    "counter = counter + 1\n",
    "print(f\"After increment: {counter}\")"
   ]
  },
  {
   "cell_type": "code",
   "execution_count": 10,
   "id": "4e53b969",
   "metadata": {},
   "outputs": [
    {
     "name": "stdout",
     "output_type": "stream",
     "text": [
      "After adding 5: 6\n"
     ]
    }
   ],
   "source": [
    "# Using compound assignment operators\n",
    "counter += 5  # Same as counter = counter + 5\n",
    "print(f\"After adding 5: {counter}\")"
   ]
  },
  {
   "cell_type": "markdown",
   "id": "1d991e06",
   "metadata": {},
   "source": [
    "# 3. Strings and String Operations"
   ]
  },
  {
   "cell_type": "markdown",
   "id": "d7e80d02",
   "metadata": {},
   "source": [
    "Strings are sequences of characters used to represent text data. Python provides many built-in methods for string manipulation."
   ]
  },
  {
   "cell_type": "code",
   "execution_count": 11,
   "id": "194ad5ef",
   "metadata": {},
   "outputs": [
    {
     "name": "stdout",
     "output_type": "stream",
     "text": [
      "Full name: John Doe\n"
     ]
    }
   ],
   "source": [
    "# String creation\n",
    "first_name = \"John\"\n",
    "last_name = \"Doe\"\n",
    "\n",
    "# String concatenation\n",
    "full_name = first_name + \" \" + last_name\n",
    "print(f\"Full name: {full_name}\")"
   ]
  },
  {
   "cell_type": "code",
   "execution_count": 12,
   "id": "5af9b611",
   "metadata": {},
   "outputs": [
    {
     "name": "stdout",
     "output_type": "stream",
     "text": [
      "Hello, my name is John Doe\n"
     ]
    }
   ],
   "source": [
    "# String formatting (f-strings)\n",
    "message = f\"Hello, my name is {full_name}\"\n",
    "print(message)"
   ]
  },
  {
   "cell_type": "code",
   "execution_count": 13,
   "id": "d522f618",
   "metadata": {},
   "outputs": [
    {
     "name": "stdout",
     "output_type": "stream",
     "text": [
      "Original: '  Python Programming  '\n",
      "Uppercase: '  PYTHON PROGRAMMING  '\n",
      "Lowercase: '  python programming  '\n",
      "Stripped: 'Python Programming'\n",
      "Length: 22\n"
     ]
    }
   ],
   "source": [
    "# String methods\n",
    "text = \"  Python Programming  \"\n",
    "print(f\"Original: '{text}'\")\n",
    "print(f\"Uppercase: '{text.upper()}'\")\n",
    "print(f\"Lowercase: '{text.lower()}'\")\n",
    "print(f\"Stripped: '{text.strip()}'\")\n",
    "print(f\"Length: {len(text)}\")"
   ]
  },
  {
   "cell_type": "code",
   "execution_count": 14,
   "id": "6f327db4",
   "metadata": {},
   "outputs": [
    {
     "name": "stdout",
     "output_type": "stream",
     "text": [
      "First 3 characters: Pyt\n",
      "Last 3 characters: hon\n",
      "Every 2nd character: Pto\n"
     ]
    }
   ],
   "source": [
    "# String slicing\n",
    "word = \"Python\"\n",
    "print(f\"First 3 characters: {word[:3]}\")\n",
    "print(f\"Last 3 characters: {word[-3:]}\")\n",
    "print(f\"Every 2nd character: {word[::2]}\")"
   ]
  },
  {
   "cell_type": "markdown",
   "id": "745f881c",
   "metadata": {},
   "source": [
    "# 4. Lists and List Operations"
   ]
  },
  {
   "cell_type": "markdown",
   "id": "ef6a08eb",
   "metadata": {},
   "source": [
    "Lists are ordered collections of items that can be changed (mutable). They can store different data types and allow duplicate values."
   ]
  },
  {
   "cell_type": "code",
   "execution_count": 15,
   "id": "2d916eb4",
   "metadata": {},
   "outputs": [
    {
     "name": "stdout",
     "output_type": "stream",
     "text": [
      "Fruits: ['apple', 'banana', 'orange']\n",
      "Numbers: [1, 2, 3, 4, 5]\n",
      "Mixed: ['hello', 42, 3.14, True]\n"
     ]
    }
   ],
   "source": [
    "# Creating lists\n",
    "fruits = [\"apple\", \"banana\", \"orange\"]\n",
    "numbers = [1, 2, 3, 4, 5]\n",
    "mixed = [\"hello\", 42, 3.14, True]\n",
    "\n",
    "print(f\"Fruits: {fruits}\")\n",
    "print(f\"Numbers: {numbers}\")\n",
    "print(f\"Mixed: {mixed}\")"
   ]
  },
  {
   "cell_type": "code",
   "execution_count": 16,
   "id": "2c9d2bf2",
   "metadata": {},
   "outputs": [
    {
     "name": "stdout",
     "output_type": "stream",
     "text": [
      "First fruit: apple\n",
      "Last fruit: orange\n"
     ]
    }
   ],
   "source": [
    "# Accessing list elements\n",
    "print(f\"First fruit: {fruits[0]}\")\n",
    "print(f\"Last fruit: {fruits[-1]}\")"
   ]
  },
  {
   "cell_type": "code",
   "execution_count": 17,
   "id": "55ba4a22",
   "metadata": {},
   "outputs": [
    {
     "name": "stdout",
     "output_type": "stream",
     "text": [
      "After append: ['apple', 'banana', 'orange', 'grape']\n"
     ]
    }
   ],
   "source": [
    "# Modifying lists\n",
    "fruits.append(\"grape\")  # Add to end\n",
    "print(f\"After append: {fruits}\")"
   ]
  },
  {
   "cell_type": "code",
   "execution_count": 18,
   "id": "0be68093",
   "metadata": {},
   "outputs": [
    {
     "name": "stdout",
     "output_type": "stream",
     "text": [
      "After insert: ['apple', 'kiwi', 'banana', 'orange', 'grape']\n"
     ]
    }
   ],
   "source": [
    "fruits.insert(1, \"kiwi\")  # Insert at position\n",
    "print(f\"After insert: {fruits}\")"
   ]
  },
  {
   "cell_type": "code",
   "execution_count": 19,
   "id": "dc5d2a1a",
   "metadata": {},
   "outputs": [
    {
     "name": "stdout",
     "output_type": "stream",
     "text": [
      "Subset: [2, 3, 4]\n"
     ]
    }
   ],
   "source": [
    "# List slicing\n",
    "subset = numbers[1:4]  # Elements from index 1 to 3\n",
    "print(f\"Subset: {subset}\")"
   ]
  },
  {
   "cell_type": "markdown",
   "id": "8b69c6fd",
   "metadata": {},
   "source": [
    "# 5. Dictionaries and Dictionary Operations"
   ]
  },
  {
   "cell_type": "markdown",
   "id": "3b27fc8c",
   "metadata": {},
   "source": [
    "Dictionaries are collections of key-value pairs. They are unordered, changeable, and do not allow duplicate keys."
   ]
  },
  {
   "cell_type": "code",
   "execution_count": 20,
   "id": "6b708896",
   "metadata": {},
   "outputs": [
    {
     "name": "stdout",
     "output_type": "stream",
     "text": [
      "Student info: {'name': 'Alice', 'age': 20, 'major': 'Computer Science', 'gpa': 3.8}\n"
     ]
    }
   ],
   "source": [
    "# Creating dictionaries\n",
    "student = {\n",
    "    \"name\": \"Alice\",\n",
    "    \"age\": 20,\n",
    "    \"major\": \"Computer Science\",\n",
    "    \"gpa\": 3.8\n",
    "}\n",
    "\n",
    "print(f\"Student info: {student}\")"
   ]
  },
  {
   "cell_type": "code",
   "execution_count": 22,
   "id": "75ac9708",
   "metadata": {},
   "outputs": [
    {
     "name": "stdout",
     "output_type": "stream",
     "text": [
      "Name: Alice\n",
      "Name: Alice\n"
     ]
    }
   ],
   "source": [
    "# Accessing dictionary values\n",
    "print(f\"Name: {student['name']}\")\n",
    "print(f\"Name: {student.get('name')}\")"
   ]
  },
  {
   "cell_type": "code",
   "execution_count": 23,
   "id": "1adec404",
   "metadata": {},
   "outputs": [
    {
     "name": "stdout",
     "output_type": "stream",
     "text": [
      "Updated student: {'name': 'Alice', 'age': 21, 'major': 'Computer Science', 'gpa': 3.8, 'graduation_year': 2025}\n"
     ]
    }
   ],
   "source": [
    "# Adding/modifying entries\n",
    "student[\"graduation_year\"] = 2025\n",
    "student[\"age\"] = 21  # Modify existing key\n",
    "print(f\"Updated student: {student}\")"
   ]
  },
  {
   "cell_type": "code",
   "execution_count": 24,
   "id": "416ea181",
   "metadata": {},
   "outputs": [
    {
     "name": "stdout",
     "output_type": "stream",
     "text": [
      "Keys: ['name', 'age', 'major', 'gpa', 'graduation_year']\n",
      "Values: ['Alice', 21, 'Computer Science', 3.8, 2025]\n",
      "Items: [('name', 'Alice'), ('age', 21), ('major', 'Computer Science'), ('gpa', 3.8), ('graduation_year', 2025)]\n"
     ]
    }
   ],
   "source": [
    "# Dictionary methods\n",
    "print(f\"Keys: {list(student.keys())}\")\n",
    "print(f\"Values: {list(student.values())}\")\n",
    "print(f\"Items: {list(student.items())}\")"
   ]
  },
  {
   "cell_type": "markdown",
   "id": "dc321339",
   "metadata": {},
   "source": [
    "# 6. Conditional Statements"
   ]
  },
  {
   "cell_type": "markdown",
   "id": "5acb60cc",
   "metadata": {},
   "source": [
    "Conditional statements allow your program to make decisions based on different conditions using `if`, `elif`, and `else`."
   ]
  },
  {
   "cell_type": "code",
   "execution_count": 25,
   "id": "0265888b",
   "metadata": {},
   "outputs": [
    {
     "name": "stdout",
     "output_type": "stream",
     "text": [
      "You are an adult\n"
     ]
    }
   ],
   "source": [
    "# Basic if-else\n",
    "age = 18\n",
    "if age >= 18:\n",
    "    print(\"You are an adult\")\n",
    "else:\n",
    "    print(\"You are a minor\")"
   ]
  },
  {
   "cell_type": "code",
   "execution_count": 26,
   "id": "b5c4e289",
   "metadata": {},
   "outputs": [
    {
     "name": "stdout",
     "output_type": "stream",
     "text": [
      "Score: 85, Grade: B\n"
     ]
    }
   ],
   "source": [
    "# if-elif-else\n",
    "score = 85\n",
    "if score >= 90:\n",
    "    grade = \"A\"\n",
    "elif score >= 80:\n",
    "    grade = \"B\"\n",
    "elif score >= 70:\n",
    "    grade = \"C\"\n",
    "elif score >= 60:\n",
    "    grade = \"D\"\n",
    "else:\n",
    "    grade = \"F\"\n",
    "\n",
    "print(f\"Score: {score}, Grade: {grade}\")"
   ]
  },
  {
   "cell_type": "code",
   "execution_count": 27,
   "id": "dd35325f",
   "metadata": {},
   "outputs": [
    {
     "name": "stdout",
     "output_type": "stream",
     "text": [
      "Perfect weather for outdoor activities!\n"
     ]
    }
   ],
   "source": [
    "# Logical operators\n",
    "temperature = 25\n",
    "is_sunny = True\n",
    "\n",
    "if temperature > 20 and is_sunny:\n",
    "    print(\"Perfect weather for outdoor activities!\")\n",
    "elif temperature > 20 or is_sunny:\n",
    "    print(\"Decent weather\")\n",
    "else:\n",
    "    print(\"Stay indoors\")"
   ]
  },
  {
   "cell_type": "markdown",
   "id": "14c97f43",
   "metadata": {},
   "source": [
    "# 7. Loops"
   ]
  },
  {
   "cell_type": "markdown",
   "id": "a788278e",
   "metadata": {},
   "source": [
    "Loops allow you to repeat code multiple times. Python has two main types of loops: `for` loops and `while` loops."
   ]
  },
  {
   "cell_type": "code",
   "execution_count": 28,
   "id": "091ab367",
   "metadata": {},
   "outputs": [
    {
     "name": "stdout",
     "output_type": "stream",
     "text": [
      "Counting from 1 to 5:\n",
      "Count: 1\n",
      "Count: 2\n",
      "Count: 3\n",
      "Count: 4\n",
      "Count: 5\n"
     ]
    }
   ],
   "source": [
    "# For loop with range\n",
    "print(\"Counting from 1 to 5:\")\n",
    "for i in range(1, 6):\n",
    "    print(f\"Count: {i}\")"
   ]
  },
  {
   "cell_type": "code",
   "execution_count": 29,
   "id": "bd3c13cc",
   "metadata": {},
   "outputs": [
    {
     "name": "stdout",
     "output_type": "stream",
     "text": [
      "\n",
      "Colors:\n",
      "Color: red\n",
      "Color: green\n",
      "Color: blue\n"
     ]
    }
   ],
   "source": [
    "# For loop with list\n",
    "colors = [\"red\", \"green\", \"blue\"]\n",
    "print(\"\\nColors:\")\n",
    "for color in colors:\n",
    "    print(f\"Color: {color}\")"
   ]
  },
  {
   "cell_type": "code",
   "execution_count": 30,
   "id": "b738827a",
   "metadata": {},
   "outputs": [
    {
     "name": "stdout",
     "output_type": "stream",
     "text": [
      "\n",
      "Colors with index:\n",
      "Index 0: red\n",
      "Index 1: green\n",
      "Index 2: blue\n"
     ]
    }
   ],
   "source": [
    "# For loop with enumerate (get index and value)\n",
    "print(\"\\nColors with index:\")\n",
    "for index, color in enumerate(colors):\n",
    "    print(f\"Index {index}: {color}\")"
   ]
  },
  {
   "cell_type": "code",
   "execution_count": 31,
   "id": "2b0b98f4",
   "metadata": {},
   "outputs": [
    {
     "name": "stdout",
     "output_type": "stream",
     "text": [
      "\n",
      "Countdown:\n",
      "T-minus 5\n",
      "T-minus 4\n",
      "T-minus 3\n",
      "T-minus 2\n",
      "T-minus 1\n",
      "Blast off!\n"
     ]
    }
   ],
   "source": [
    "# While loop\n",
    "print(\"\\nCountdown:\")\n",
    "countdown = 5\n",
    "while countdown > 0:\n",
    "    print(f\"T-minus {countdown}\")\n",
    "    countdown -= 1\n",
    "print(\"Blast off!\")"
   ]
  },
  {
   "cell_type": "markdown",
   "id": "649f81a0",
   "metadata": {},
   "source": [
    "# 8. Functions"
   ]
  },
  {
   "cell_type": "markdown",
   "id": "b68bd7ae",
   "metadata": {},
   "source": [
    "Functions are reusable blocks of code that perform specific tasks. "
   ]
  },
  {
   "cell_type": "code",
   "execution_count": 34,
   "id": "87f3688f",
   "metadata": {},
   "outputs": [
    {
     "name": "stdout",
     "output_type": "stream",
     "text": [
      "Hello, Alice!\n"
     ]
    }
   ],
   "source": [
    "# Basic function definition\n",
    "def greet(name):\n",
    "    \"\"\"This function greets someone\"\"\"\n",
    "    return f\"Hello, {name}!\"\n",
    "\n",
    "# Function call\n",
    "message = greet(\"Alice\")\n",
    "print(message)"
   ]
  },
  {
   "cell_type": "code",
   "execution_count": 35,
   "id": "e208db28",
   "metadata": {},
   "outputs": [
    {
     "name": "stdout",
     "output_type": "stream",
     "text": [
      "Area: 15\n"
     ]
    }
   ],
   "source": [
    "# Function with multiple parameters\n",
    "def calculate_area(length, width):\n",
    "    \"\"\"Calculate rectangle area\"\"\"\n",
    "    area = length * width\n",
    "    return area\n",
    "\n",
    "area = calculate_area(5, 3)\n",
    "print(f\"Area: {area}\")"
   ]
  },
  {
   "cell_type": "code",
   "execution_count": 36,
   "id": "a5490945",
   "metadata": {},
   "outputs": [
    {
     "name": "stdout",
     "output_type": "stream",
     "text": [
      "Hi, I'm Bob, 25 years old, from Unknown\n",
      "Hi, I'm Carol, 30 years old, from Unknown\n",
      "Hi, I'm David, 28 years old, from New York\n"
     ]
    }
   ],
   "source": [
    "# Function with default parameters\n",
    "def introduce(name, age=25, city=\"Unknown\"):\n",
    "    \"\"\"Introduce a person with default values\"\"\"\n",
    "    return f\"Hi, I'm {name}, {age} years old, from {city}\"\n",
    "\n",
    "print(introduce(\"Bob\"))\n",
    "print(introduce(\"Carol\", 30))\n",
    "print(introduce(\"David\", 28, \"New York\"))"
   ]
  },
  {
   "cell_type": "code",
   "execution_count": 37,
   "id": "d6d04a96",
   "metadata": {},
   "outputs": [
    {
     "name": "stdout",
     "output_type": "stream",
     "text": [
      "Sum: 15\n"
     ]
    }
   ],
   "source": [
    "# Function with variable arguments\n",
    "def sum_all(*args):\n",
    "    \"\"\"Sum all provided arguments\"\"\"\n",
    "    total = 0\n",
    "    for num in args:\n",
    "        total += num\n",
    "    return total\n",
    "\n",
    "print(f\"Sum: {sum_all(1, 2, 3, 4, 5)}\")"
   ]
  },
  {
   "cell_type": "markdown",
   "id": "7e4343bf",
   "metadata": {},
   "source": [
    "# 9. Classes and Objects"
   ]
  },
  {
   "cell_type": "markdown",
   "id": "451be457",
   "metadata": {},
   "source": [
    "Object-Oriented Programming (OOP) allows you to create classes that bundle data and functions together. Classes are blueprints for creating objects."
   ]
  },
  {
   "cell_type": "code",
   "execution_count": 39,
   "id": "d58c6f7e",
   "metadata": {},
   "outputs": [
    {
     "name": "stdout",
     "output_type": "stream",
     "text": [
      "Buddy says Woof!\n",
      "Buddy is a 3 year old Golden Retriever\n",
      "Happy birthday Buddy! Now 4 years old.\n"
     ]
    }
   ],
   "source": [
    "# Basic class definition\n",
    "class Dog:\n",
    "    \"\"\"A simple Dog class\"\"\"\n",
    "    \n",
    "    # Class variable (shared by all instances)\n",
    "    species = \"Canis lupus\"\n",
    "    \n",
    "    # Constructor method\n",
    "    def __init__(self, name, age, breed):\n",
    "        \"\"\"Initialize a new Dog instance\"\"\"\n",
    "        self.name = name      # Instance variable\n",
    "        self.age = age        # Instance variable\n",
    "        self.breed = breed    # Instance variable\n",
    "    \n",
    "    # Instance method\n",
    "    def bark(self):\n",
    "        \"\"\"Make the dog bark\"\"\"\n",
    "        return f\"{self.name} says Woof!\"\n",
    "    \n",
    "    def get_info(self):\n",
    "        \"\"\"Return dog information\"\"\"\n",
    "        return f\"{self.name} is a {self.age} year old {self.breed}\"\n",
    "    \n",
    "    # Method with parameters\n",
    "    def celebrate_birthday(self):\n",
    "        \"\"\"Increase dog's age by 1\"\"\"\n",
    "        self.age += 1\n",
    "        return f\"Happy birthday {self.name}! Now {self.age} years old.\"\n",
    "\n",
    "# Creating objects (instances)\n",
    "my_dog = Dog(\"Buddy\", 3, \"Golden Retriever\")\n",
    "another_dog = Dog(\"Max\", 5, \"German Shepherd\")\n",
    "\n",
    "# Using object methods\n",
    "print(my_dog.bark())\n",
    "print(my_dog.get_info())\n",
    "print(my_dog.celebrate_birthday())"
   ]
  },
  {
   "cell_type": "code",
   "execution_count": 40,
   "id": "7eb6d6a5",
   "metadata": {},
   "outputs": [
    {
     "name": "stdout",
     "output_type": "stream",
     "text": [
      "Species: Canis lupus\n",
      "Dog's name: Buddy\n"
     ]
    }
   ],
   "source": [
    "# Accessing class and instance variables\n",
    "print(f\"Species: {Dog.species}\")\n",
    "print(f\"Dog's name: {my_dog.name}\")"
   ]
  },
  {
   "cell_type": "code",
   "execution_count": 41,
   "id": "85327bc4",
   "metadata": {},
   "outputs": [
    {
     "name": "stdout",
     "output_type": "stream",
     "text": [
      "Luna is a 1 year old Labrador\n",
      "Luna is playing with ball\n",
      "Luna says Yip yip!\n"
     ]
    }
   ],
   "source": [
    "# Inheritance example\n",
    "class Puppy(Dog):\n",
    "    \"\"\"A Puppy class that inherits from Dog\"\"\"\n",
    "    \n",
    "    def __init__(self, name, age, breed, toy):\n",
    "        super().__init__(name, age, breed)  # Call parent constructor\n",
    "        self.toy = toy\n",
    "    \n",
    "    def play(self):\n",
    "        \"\"\"Puppy-specific method\"\"\"\n",
    "        return f\"{self.name} is playing with {self.toy}\"\n",
    "    \n",
    "    # Override parent method\n",
    "    def bark(self):\n",
    "        return f\"{self.name} says Yip yip!\"\n",
    "\n",
    "# Using inheritance\n",
    "puppy = Puppy(\"Luna\", 1, \"Labrador\", \"ball\")\n",
    "print(puppy.get_info())  # Inherited method\n",
    "print(puppy.play())      # New method\n",
    "print(puppy.bark())      # Overridden method"
   ]
  },
  {
   "cell_type": "markdown",
   "id": "f8ff833d",
   "metadata": {},
   "source": [
    "# Conclusion\n",
    "\n",
    "Basic fundamental concepts of Python programming:\n",
    "\n",
    "1. **Basic Data Types**: integers, floats, booleans, and strings\n",
    "2. **Variables**: dynamic typing and naming conventions\n",
    "3. **Strings**: manipulation, formatting, and methods\n",
    "4. **Lists**: creation, indexing, and methods\n",
    "5. **Dictionaries**: key-value pairs and iteration\n",
    "6. **Conditionals**: if/elif/else statements and logical operators\n",
    "7. **Loops**: for loops and while loops\n",
    "8. **Functions**: definition, parameters and return values\n",
    "9. **Classes**: object-oriented programming and inheritance"
   ]
  }
 ],
 "metadata": {
  "kernelspec": {
   "display_name": "nn-tutorial",
   "language": "python",
   "name": "python3"
  },
  "language_info": {
   "codemirror_mode": {
    "name": "ipython",
    "version": 3
   },
   "file_extension": ".py",
   "mimetype": "text/x-python",
   "name": "python",
   "nbconvert_exporter": "python",
   "pygments_lexer": "ipython3",
   "version": "3.12.11"
  }
 },
 "nbformat": 4,
 "nbformat_minor": 5
}
